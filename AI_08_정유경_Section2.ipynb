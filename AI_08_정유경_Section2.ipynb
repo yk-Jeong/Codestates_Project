{
  "nbformat": 4,
  "nbformat_minor": 0,
  "metadata": {
    "colab": {
      "name": "2ndProject.ipynb",
      "provenance": [],
      "collapsed_sections": [
        "7_WTfprOFtGb",
        "RK7Bpo72AXER",
        "A03Ymg_nL_C2",
        "XaNRjcDA_3ZK",
        "v4QvQK0bALNt",
        "K_H7ffI3WrQb"
      ],
      "authorship_tag": "ABX9TyNz8JBi1J2JsyTJ1jafYjTY",
      "include_colab_link": true
    },
    "kernelspec": {
      "display_name": "Python 3",
      "name": "python3"
    },
    "language_info": {
      "name": "python"
    }
  },
  "cells": [
    {
      "cell_type": "markdown",
      "metadata": {
        "id": "view-in-github",
        "colab_type": "text"
      },
      "source": [
        "<a href=\"https://colab.research.google.com/github/yk-Jeong/Codestates_Project/blob/main/2ndProject.ipynb\" target=\"_parent\"><img src=\"https://colab.research.google.com/assets/colab-badge.svg\" alt=\"Open In Colab\"/></a>"
      ]
    },
    {
      "cell_type": "markdown",
      "metadata": {
        "id": "nZtIO0X8kxk8"
      },
      "source": [
        "### 라이브러리 import 및 구글 드라이브 연동 "
      ]
    },
    {
      "cell_type": "code",
      "metadata": {
        "colab": {
          "base_uri": "https://localhost:8080/"
        },
        "id": "dKjFU5aji3lQ",
        "outputId": "dae0fc14-005c-433b-d675-1fc8fe7176f0"
      },
      "source": [
        "from google.colab import drive \n",
        "drive.mount('/content/drive')"
      ],
      "execution_count": 55,
      "outputs": [
        {
          "output_type": "stream",
          "name": "stdout",
          "text": [
            "Drive already mounted at /content/drive; to attempt to forcibly remount, call drive.mount(\"/content/drive\", force_remount=True).\n"
          ]
        }
      ]
    },
    {
      "cell_type": "code",
      "metadata": {
        "id": "SU_J1eWTkhzf"
      },
      "source": [
        "import pandas as pd\n",
        "import numpy as np\n",
        "import pandas_profiling"
      ],
      "execution_count": 56,
      "outputs": []
    },
    {
      "cell_type": "code",
      "metadata": {
        "colab": {
          "base_uri": "https://localhost:8080/",
          "height": 1000
        },
        "id": "IYHdCaG_pCis",
        "outputId": "f9e988ca-0c2e-44e8-ffcf-255a57d731a2"
      },
      "source": [
        "pip install pandas-profiling==2.11.0 --upgrade"
      ],
      "execution_count": 57,
      "outputs": [
        {
          "output_type": "stream",
          "name": "stdout",
          "text": [
            "Requirement already satisfied: pandas-profiling==2.11.0 in /usr/local/lib/python3.7/dist-packages (2.11.0)\n",
            "Requirement already satisfied: tqdm>=4.48.2 in /usr/local/lib/python3.7/dist-packages (from pandas-profiling==2.11.0) (4.62.3)\n",
            "Requirement already satisfied: numpy>=1.16.0 in /usr/local/lib/python3.7/dist-packages (from pandas-profiling==2.11.0) (1.19.5)\n",
            "Requirement already satisfied: htmlmin>=0.1.12 in /usr/local/lib/python3.7/dist-packages (from pandas-profiling==2.11.0) (0.1.12)\n",
            "Requirement already satisfied: missingno>=0.4.2 in /usr/local/lib/python3.7/dist-packages (from pandas-profiling==2.11.0) (0.5.0)\n",
            "Requirement already satisfied: joblib in /usr/local/lib/python3.7/dist-packages (from pandas-profiling==2.11.0) (1.1.0)\n",
            "Requirement already satisfied: ipywidgets>=7.5.1 in /usr/local/lib/python3.7/dist-packages (from pandas-profiling==2.11.0) (7.6.5)\n",
            "Requirement already satisfied: requests>=2.24.0 in /usr/local/lib/python3.7/dist-packages (from pandas-profiling==2.11.0) (2.26.0)\n",
            "Requirement already satisfied: scipy>=1.4.1 in /usr/local/lib/python3.7/dist-packages (from pandas-profiling==2.11.0) (1.7.2)\n",
            "Requirement already satisfied: phik>=0.10.0 in /usr/local/lib/python3.7/dist-packages (from pandas-profiling==2.11.0) (0.12.0)\n",
            "Requirement already satisfied: visions[type_image_path]==0.6.0 in /usr/local/lib/python3.7/dist-packages (from pandas-profiling==2.11.0) (0.6.0)\n",
            "Requirement already satisfied: confuse>=1.0.0 in /usr/local/lib/python3.7/dist-packages (from pandas-profiling==2.11.0) (1.6.0)\n",
            "Collecting matplotlib>=3.2.0\n",
            "  Using cached matplotlib-3.4.3-cp37-cp37m-manylinux1_x86_64.whl (10.3 MB)\n",
            "Requirement already satisfied: tangled-up-in-unicode>=0.0.6 in /usr/local/lib/python3.7/dist-packages (from pandas-profiling==2.11.0) (0.2.0)\n",
            "Requirement already satisfied: attrs>=19.3.0 in /usr/local/lib/python3.7/dist-packages (from pandas-profiling==2.11.0) (21.2.0)\n",
            "Requirement already satisfied: jinja2>=2.11.1 in /usr/local/lib/python3.7/dist-packages (from pandas-profiling==2.11.0) (2.11.3)\n",
            "Requirement already satisfied: seaborn>=0.10.1 in /usr/local/lib/python3.7/dist-packages (from pandas-profiling==2.11.0) (0.11.2)\n",
            "Requirement already satisfied: pandas!=1.0.0,!=1.0.1,!=1.0.2,!=1.1.0,>=0.25.3 in /usr/local/lib/python3.7/dist-packages (from pandas-profiling==2.11.0) (1.1.5)\n",
            "Requirement already satisfied: networkx>=2.4 in /usr/local/lib/python3.7/dist-packages (from visions[type_image_path]==0.6.0->pandas-profiling==2.11.0) (2.6.3)\n",
            "Requirement already satisfied: imagehash in /usr/local/lib/python3.7/dist-packages (from visions[type_image_path]==0.6.0->pandas-profiling==2.11.0) (4.2.1)\n",
            "Requirement already satisfied: Pillow in /usr/local/lib/python3.7/dist-packages (from visions[type_image_path]==0.6.0->pandas-profiling==2.11.0) (7.1.2)\n",
            "Requirement already satisfied: pyyaml in /usr/local/lib/python3.7/dist-packages (from confuse>=1.0.0->pandas-profiling==2.11.0) (3.13)\n",
            "Requirement already satisfied: ipython>=4.0.0 in /usr/local/lib/python3.7/dist-packages (from ipywidgets>=7.5.1->pandas-profiling==2.11.0) (5.5.0)\n",
            "Requirement already satisfied: nbformat>=4.2.0 in /usr/local/lib/python3.7/dist-packages (from ipywidgets>=7.5.1->pandas-profiling==2.11.0) (5.1.3)\n",
            "Requirement already satisfied: widgetsnbextension~=3.5.0 in /usr/local/lib/python3.7/dist-packages (from ipywidgets>=7.5.1->pandas-profiling==2.11.0) (3.5.2)\n",
            "Requirement already satisfied: traitlets>=4.3.1 in /usr/local/lib/python3.7/dist-packages (from ipywidgets>=7.5.1->pandas-profiling==2.11.0) (5.1.1)\n",
            "Requirement already satisfied: ipykernel>=4.5.1 in /usr/local/lib/python3.7/dist-packages (from ipywidgets>=7.5.1->pandas-profiling==2.11.0) (4.10.1)\n",
            "Requirement already satisfied: jupyterlab-widgets>=1.0.0 in /usr/local/lib/python3.7/dist-packages (from ipywidgets>=7.5.1->pandas-profiling==2.11.0) (1.0.2)\n",
            "Requirement already satisfied: ipython-genutils~=0.2.0 in /usr/local/lib/python3.7/dist-packages (from ipywidgets>=7.5.1->pandas-profiling==2.11.0) (0.2.0)\n",
            "Requirement already satisfied: tornado>=4.0 in /usr/local/lib/python3.7/dist-packages (from ipykernel>=4.5.1->ipywidgets>=7.5.1->pandas-profiling==2.11.0) (5.1.1)\n",
            "Requirement already satisfied: jupyter-client in /usr/local/lib/python3.7/dist-packages (from ipykernel>=4.5.1->ipywidgets>=7.5.1->pandas-profiling==2.11.0) (5.3.5)\n",
            "Requirement already satisfied: pickleshare in /usr/local/lib/python3.7/dist-packages (from ipython>=4.0.0->ipywidgets>=7.5.1->pandas-profiling==2.11.0) (0.7.5)\n",
            "Requirement already satisfied: prompt-toolkit<2.0.0,>=1.0.4 in /usr/local/lib/python3.7/dist-packages (from ipython>=4.0.0->ipywidgets>=7.5.1->pandas-profiling==2.11.0) (1.0.18)\n",
            "Requirement already satisfied: simplegeneric>0.8 in /usr/local/lib/python3.7/dist-packages (from ipython>=4.0.0->ipywidgets>=7.5.1->pandas-profiling==2.11.0) (0.8.1)\n",
            "Requirement already satisfied: pexpect in /usr/local/lib/python3.7/dist-packages (from ipython>=4.0.0->ipywidgets>=7.5.1->pandas-profiling==2.11.0) (4.8.0)\n",
            "Requirement already satisfied: decorator in /usr/local/lib/python3.7/dist-packages (from ipython>=4.0.0->ipywidgets>=7.5.1->pandas-profiling==2.11.0) (4.4.2)\n",
            "Requirement already satisfied: setuptools>=18.5 in /usr/local/lib/python3.7/dist-packages (from ipython>=4.0.0->ipywidgets>=7.5.1->pandas-profiling==2.11.0) (57.4.0)\n",
            "Requirement already satisfied: pygments in /usr/local/lib/python3.7/dist-packages (from ipython>=4.0.0->ipywidgets>=7.5.1->pandas-profiling==2.11.0) (2.6.1)\n",
            "Requirement already satisfied: MarkupSafe>=0.23 in /usr/local/lib/python3.7/dist-packages (from jinja2>=2.11.1->pandas-profiling==2.11.0) (2.0.1)\n",
            "Requirement already satisfied: pyparsing>=2.2.1 in /usr/local/lib/python3.7/dist-packages (from matplotlib>=3.2.0->pandas-profiling==2.11.0) (2.4.7)\n",
            "Requirement already satisfied: python-dateutil>=2.7 in /usr/local/lib/python3.7/dist-packages (from matplotlib>=3.2.0->pandas-profiling==2.11.0) (2.8.2)\n",
            "Requirement already satisfied: cycler>=0.10 in /usr/local/lib/python3.7/dist-packages (from matplotlib>=3.2.0->pandas-profiling==2.11.0) (0.11.0)\n",
            "Requirement already satisfied: kiwisolver>=1.0.1 in /usr/local/lib/python3.7/dist-packages (from matplotlib>=3.2.0->pandas-profiling==2.11.0) (1.3.2)\n",
            "Requirement already satisfied: jsonschema!=2.5.0,>=2.4 in /usr/local/lib/python3.7/dist-packages (from nbformat>=4.2.0->ipywidgets>=7.5.1->pandas-profiling==2.11.0) (2.6.0)\n",
            "Requirement already satisfied: jupyter-core in /usr/local/lib/python3.7/dist-packages (from nbformat>=4.2.0->ipywidgets>=7.5.1->pandas-profiling==2.11.0) (4.9.1)\n",
            "Requirement already satisfied: pytz>=2017.2 in /usr/local/lib/python3.7/dist-packages (from pandas!=1.0.0,!=1.0.1,!=1.0.2,!=1.1.0,>=0.25.3->pandas-profiling==2.11.0) (2018.9)\n",
            "Requirement already satisfied: wcwidth in /usr/local/lib/python3.7/dist-packages (from prompt-toolkit<2.0.0,>=1.0.4->ipython>=4.0.0->ipywidgets>=7.5.1->pandas-profiling==2.11.0) (0.2.5)\n",
            "Requirement already satisfied: six>=1.9.0 in /usr/local/lib/python3.7/dist-packages (from prompt-toolkit<2.0.0,>=1.0.4->ipython>=4.0.0->ipywidgets>=7.5.1->pandas-profiling==2.11.0) (1.15.0)\n",
            "Requirement already satisfied: urllib3<1.27,>=1.21.1 in /usr/local/lib/python3.7/dist-packages (from requests>=2.24.0->pandas-profiling==2.11.0) (1.24.3)\n",
            "Requirement already satisfied: idna<4,>=2.5 in /usr/local/lib/python3.7/dist-packages (from requests>=2.24.0->pandas-profiling==2.11.0) (2.10)\n",
            "Requirement already satisfied: charset-normalizer~=2.0.0 in /usr/local/lib/python3.7/dist-packages (from requests>=2.24.0->pandas-profiling==2.11.0) (2.0.7)\n",
            "Requirement already satisfied: certifi>=2017.4.17 in /usr/local/lib/python3.7/dist-packages (from requests>=2.24.0->pandas-profiling==2.11.0) (2021.10.8)\n",
            "Requirement already satisfied: notebook>=4.4.1 in /usr/local/lib/python3.7/dist-packages (from widgetsnbextension~=3.5.0->ipywidgets>=7.5.1->pandas-profiling==2.11.0) (5.3.1)\n",
            "Requirement already satisfied: nbconvert in /usr/local/lib/python3.7/dist-packages (from notebook>=4.4.1->widgetsnbextension~=3.5.0->ipywidgets>=7.5.1->pandas-profiling==2.11.0) (5.6.1)\n",
            "Requirement already satisfied: Send2Trash in /usr/local/lib/python3.7/dist-packages (from notebook>=4.4.1->widgetsnbextension~=3.5.0->ipywidgets>=7.5.1->pandas-profiling==2.11.0) (1.8.0)\n",
            "Requirement already satisfied: terminado>=0.8.1 in /usr/local/lib/python3.7/dist-packages (from notebook>=4.4.1->widgetsnbextension~=3.5.0->ipywidgets>=7.5.1->pandas-profiling==2.11.0) (0.12.1)\n",
            "Requirement already satisfied: pyzmq>=13 in /usr/local/lib/python3.7/dist-packages (from jupyter-client->ipykernel>=4.5.1->ipywidgets>=7.5.1->pandas-profiling==2.11.0) (22.3.0)\n",
            "Requirement already satisfied: ptyprocess in /usr/local/lib/python3.7/dist-packages (from terminado>=0.8.1->notebook>=4.4.1->widgetsnbextension~=3.5.0->ipywidgets>=7.5.1->pandas-profiling==2.11.0) (0.7.0)\n",
            "Requirement already satisfied: PyWavelets in /usr/local/lib/python3.7/dist-packages (from imagehash->visions[type_image_path]==0.6.0->pandas-profiling==2.11.0) (1.1.1)\n",
            "Requirement already satisfied: pandocfilters>=1.4.1 in /usr/local/lib/python3.7/dist-packages (from nbconvert->notebook>=4.4.1->widgetsnbextension~=3.5.0->ipywidgets>=7.5.1->pandas-profiling==2.11.0) (1.5.0)\n",
            "Requirement already satisfied: entrypoints>=0.2.2 in /usr/local/lib/python3.7/dist-packages (from nbconvert->notebook>=4.4.1->widgetsnbextension~=3.5.0->ipywidgets>=7.5.1->pandas-profiling==2.11.0) (0.3)\n",
            "Requirement already satisfied: testpath in /usr/local/lib/python3.7/dist-packages (from nbconvert->notebook>=4.4.1->widgetsnbextension~=3.5.0->ipywidgets>=7.5.1->pandas-profiling==2.11.0) (0.5.0)\n",
            "Requirement already satisfied: defusedxml in /usr/local/lib/python3.7/dist-packages (from nbconvert->notebook>=4.4.1->widgetsnbextension~=3.5.0->ipywidgets>=7.5.1->pandas-profiling==2.11.0) (0.7.1)\n",
            "Requirement already satisfied: mistune<2,>=0.8.1 in /usr/local/lib/python3.7/dist-packages (from nbconvert->notebook>=4.4.1->widgetsnbextension~=3.5.0->ipywidgets>=7.5.1->pandas-profiling==2.11.0) (0.8.4)\n",
            "Requirement already satisfied: bleach in /usr/local/lib/python3.7/dist-packages (from nbconvert->notebook>=4.4.1->widgetsnbextension~=3.5.0->ipywidgets>=7.5.1->pandas-profiling==2.11.0) (4.1.0)\n",
            "Requirement already satisfied: webencodings in /usr/local/lib/python3.7/dist-packages (from bleach->nbconvert->notebook>=4.4.1->widgetsnbextension~=3.5.0->ipywidgets>=7.5.1->pandas-profiling==2.11.0) (0.5.1)\n",
            "Requirement already satisfied: packaging in /usr/local/lib/python3.7/dist-packages (from bleach->nbconvert->notebook>=4.4.1->widgetsnbextension~=3.5.0->ipywidgets>=7.5.1->pandas-profiling==2.11.0) (21.2)\n",
            "Installing collected packages: matplotlib\n",
            "  Attempting uninstall: matplotlib\n",
            "    Found existing installation: matplotlib 3.1.1\n",
            "    Uninstalling matplotlib-3.1.1:\n",
            "      Successfully uninstalled matplotlib-3.1.1\n",
            "\u001b[31mERROR: pip's dependency resolver does not currently take into account all the packages that are installed. This behaviour is the source of the following dependency conflicts.\n",
            "pdpbox 0.2.1 requires matplotlib==3.1.1, but you have matplotlib 3.4.3 which is incompatible.\n",
            "albumentations 0.1.12 requires imgaug<0.2.7,>=0.2.5, but you have imgaug 0.2.9 which is incompatible.\u001b[0m\n",
            "Successfully installed matplotlib-3.4.3\n"
          ]
        },
        {
          "output_type": "display_data",
          "data": {
            "application/vnd.colab-display-data+json": {
              "pip_warning": {
                "packages": [
                  "matplotlib",
                  "mpl_toolkits"
                ]
              }
            }
          },
          "metadata": {}
        }
      ]
    },
    {
      "cell_type": "markdown",
      "metadata": {
        "id": "8x-BJjZ7dyjE"
      },
      "source": [
        "lib for visualization"
      ]
    },
    {
      "cell_type": "code",
      "metadata": {
        "id": "bJJkLQnZd0iR"
      },
      "source": [
        "import matplotlib.pyplot as plt\n",
        "import seaborn as sns"
      ],
      "execution_count": 58,
      "outputs": []
    },
    {
      "cell_type": "code",
      "metadata": {
        "colab": {
          "base_uri": "https://localhost:8080/"
        },
        "id": "6uybm2pTMHu1",
        "outputId": "817923cc-0dfe-4758-a36c-ea054d68470a"
      },
      "source": [
        "pip install pdpbox"
      ],
      "execution_count": null,
      "outputs": [
        {
          "output_type": "stream",
          "name": "stdout",
          "text": [
            "Requirement already satisfied: pdpbox in /usr/local/lib/python3.7/dist-packages (0.2.1)\n",
            "Requirement already satisfied: numpy in /usr/local/lib/python3.7/dist-packages (from pdpbox) (1.19.5)\n",
            "Requirement already satisfied: pandas in /usr/local/lib/python3.7/dist-packages (from pdpbox) (1.1.5)\n",
            "Requirement already satisfied: psutil in /usr/local/lib/python3.7/dist-packages (from pdpbox) (5.4.8)\n",
            "Collecting matplotlib==3.1.1\n",
            "  Using cached matplotlib-3.1.1-cp37-cp37m-manylinux1_x86_64.whl (13.1 MB)\n",
            "Requirement already satisfied: joblib in /usr/local/lib/python3.7/dist-packages (from pdpbox) (1.1.0)\n",
            "Requirement already satisfied: scipy in /usr/local/lib/python3.7/dist-packages (from pdpbox) (1.7.2)\n",
            "Requirement already satisfied: sklearn in /usr/local/lib/python3.7/dist-packages (from pdpbox) (0.0)\n",
            "Requirement already satisfied: pyparsing!=2.0.4,!=2.1.2,!=2.1.6,>=2.0.1 in /usr/local/lib/python3.7/dist-packages (from matplotlib==3.1.1->pdpbox) (2.4.7)\n",
            "Requirement already satisfied: python-dateutil>=2.1 in /usr/local/lib/python3.7/dist-packages (from matplotlib==3.1.1->pdpbox) (2.8.2)\n",
            "Requirement already satisfied: kiwisolver>=1.0.1 in /usr/local/lib/python3.7/dist-packages (from matplotlib==3.1.1->pdpbox) (1.3.2)\n",
            "Requirement already satisfied: cycler>=0.10 in /usr/local/lib/python3.7/dist-packages (from matplotlib==3.1.1->pdpbox) (0.11.0)\n",
            "Requirement already satisfied: six>=1.5 in /usr/local/lib/python3.7/dist-packages (from python-dateutil>=2.1->matplotlib==3.1.1->pdpbox) (1.15.0)\n",
            "Requirement already satisfied: pytz>=2017.2 in /usr/local/lib/python3.7/dist-packages (from pandas->pdpbox) (2018.9)\n",
            "Requirement already satisfied: scikit-learn in /usr/local/lib/python3.7/dist-packages (from sklearn->pdpbox) (0.22.2.post1)\n",
            "Installing collected packages: matplotlib\n",
            "  Attempting uninstall: matplotlib\n",
            "    Found existing installation: matplotlib 3.4.3\n",
            "    Uninstalling matplotlib-3.4.3:\n"
          ]
        }
      ]
    },
    {
      "cell_type": "code",
      "metadata": {
        "id": "KGXktF3YM14L"
      },
      "source": [
        "pip install shap"
      ],
      "execution_count": null,
      "outputs": []
    },
    {
      "cell_type": "code",
      "metadata": {
        "id": "e58OocTrMMyx"
      },
      "source": [
        "import shap\n",
        "from pdpbox.pdp import pdp_isolate, pdp_plot #단일 feature\n",
        "from pdpbox.pdp import pdp_interact, pdp_interact_plot #복수 features"
      ],
      "execution_count": null,
      "outputs": []
    },
    {
      "cell_type": "markdown",
      "metadata": {
        "id": "CH-njq3YdvYG"
      },
      "source": [
        "lib for modeling"
      ]
    },
    {
      "cell_type": "code",
      "metadata": {
        "id": "Yh1O1-bGh7h0"
      },
      "source": [
        "#data split\n",
        "from sklearn.model_selection import train_test_split"
      ],
      "execution_count": null,
      "outputs": []
    },
    {
      "cell_type": "code",
      "metadata": {
        "id": "kx8bBztaiB2i"
      },
      "source": [
        "pip install --upgrade category_encoders"
      ],
      "execution_count": null,
      "outputs": []
    },
    {
      "cell_type": "code",
      "metadata": {
        "id": "j_qFGUuldrS7"
      },
      "source": [
        "#ordinal-encoder, target encoder\n",
        "from sklearn.preprocessing import OrdinalEncoder\n",
        "from category_encoders import TargetEncoder"
      ],
      "execution_count": null,
      "outputs": []
    },
    {
      "cell_type": "code",
      "metadata": {
        "id": "DH2ousIHlxUs"
      },
      "source": [
        "#make pipeline\n",
        "from sklearn.pipeline import make_pipeline"
      ],
      "execution_count": null,
      "outputs": []
    },
    {
      "cell_type": "code",
      "metadata": {
        "id": "attjvCvaMTSO"
      },
      "source": [
        "#선형회귀\n",
        "from sklearn.linear_model import LinearRegression\n",
        "\n",
        "#RF회귀\n",
        "from sklearn.ensemble import RandomForestRegressor\n",
        "\n",
        "#ridge 회귀\n",
        "from sklearn.linear_model import RidgeCV\n",
        "\n",
        "#decision tree\n",
        "from sklearn.tree import DecisionTreeRegressor\n",
        "\n",
        "#xgboost\n",
        "from xgboost import XGBRegressor"
      ],
      "execution_count": null,
      "outputs": []
    },
    {
      "cell_type": "code",
      "metadata": {
        "id": "0djVAIVZJ5BR"
      },
      "source": [
        "#로그변환을 위한 lib\n",
        "from sklearn.compose import TransformedTargetRegressor\n",
        "\n",
        "#표준화 \n",
        "from sklearn.preprocessing import StandardScaler\n",
        "\n",
        "#결측치 처리\n",
        "from sklearn.impute import SimpleImputer"
      ],
      "execution_count": null,
      "outputs": []
    },
    {
      "cell_type": "code",
      "metadata": {
        "id": "VJVcdasywiK4"
      },
      "source": [
        "#하이퍼파라미터 탐색을 위한 RandomizedSearchCV\n",
        "from sklearn.model_selection import RandomizedSearchCV\n",
        "\n",
        "#gradient boosting model\n",
        "from xgboost import XGBRegressor"
      ],
      "execution_count": null,
      "outputs": []
    },
    {
      "cell_type": "code",
      "metadata": {
        "id": "uaL2-2pdiiUp"
      },
      "source": [
        "from scipy.stats import randint, uniform"
      ],
      "execution_count": null,
      "outputs": []
    },
    {
      "cell_type": "markdown",
      "metadata": {
        "id": "4029p7GdiLu0"
      },
      "source": [
        "평가지표를 위한 lib "
      ]
    },
    {
      "cell_type": "code",
      "metadata": {
        "id": "16Kimyy2iLI0"
      },
      "source": [
        "from sklearn.model_selection import cross_val_score\n",
        "from sklearn.metrics import mean_absolute_error\n",
        "from sklearn.metrics import r2_score"
      ],
      "execution_count": null,
      "outputs": []
    },
    {
      "cell_type": "markdown",
      "metadata": {
        "id": "4UjDZ5hwktne"
      },
      "source": [
        "### 데이터 로드\n",
        "Kaggle의 Saptarshi Ghosh가 제공하는 Meal delivery company dataset(2018.12.)를 준비하였음 (https://www.kaggle.com/ghoshsaptarshi/av-genpact-hack-dec2018)"
      ]
    },
    {
      "cell_type": "code",
      "metadata": {
        "id": "gLi-84Oyi777"
      },
      "source": [
        "test = pd.read_csv('/content/drive/MyDrive/Colab Notebooks/sprint chl./S2/meal_dataset/test.csv')\n",
        "train = pd.read_csv('/content/drive/MyDrive/Colab Notebooks/sprint chl./S2/meal_dataset/train.csv')\n",
        "meal_info = pd.read_csv('/content/drive/MyDrive/Colab Notebooks/sprint chl./S2/meal_dataset/meal_info.csv')\n",
        "fulfilment_center_info = pd.read_csv('/content/drive/MyDrive/Colab Notebooks/sprint chl./S2/meal_dataset/fulfilment_center_info.csv')"
      ],
      "execution_count": null,
      "outputs": []
    },
    {
      "cell_type": "markdown",
      "metadata": {
        "id": "4YH0lwEMkvok"
      },
      "source": [
        "### 데이터 확인"
      ]
    },
    {
      "cell_type": "code",
      "metadata": {
        "id": "j9E4wrIgkgTp"
      },
      "source": [
        "train.head(), test.head()"
      ],
      "execution_count": null,
      "outputs": []
    },
    {
      "cell_type": "code",
      "metadata": {
        "id": "Zbn5d3ePk3Cz"
      },
      "source": [
        "fulfilment_center_info.head(),meal_info.head()"
      ],
      "execution_count": null,
      "outputs": []
    },
    {
      "cell_type": "markdown",
      "metadata": {
        "id": "HrCZ9N6PDwl7"
      },
      "source": [
        "결측치 확인"
      ]
    },
    {
      "cell_type": "code",
      "metadata": {
        "id": "5Ltdu7EzO2am"
      },
      "source": [
        "train.isna().sum().sort_values(), test.isna().sum().sort_values()"
      ],
      "execution_count": null,
      "outputs": []
    },
    {
      "cell_type": "code",
      "metadata": {
        "id": "Queg0C8Ed-T3"
      },
      "source": [
        "fulfilment_center_info.isna().sum().sort_values(), meal_info.isna().sum().sort_values()"
      ],
      "execution_count": null,
      "outputs": []
    },
    {
      "cell_type": "code",
      "metadata": {
        "id": "zkLLOeFX3JVa"
      },
      "source": [
        "meal_info['meal_id'].unique()"
      ],
      "execution_count": null,
      "outputs": []
    },
    {
      "cell_type": "code",
      "metadata": {
        "id": "nzQjMqthdqAR"
      },
      "source": [
        "meal_info['category'].unique()"
      ],
      "execution_count": null,
      "outputs": []
    },
    {
      "cell_type": "code",
      "metadata": {
        "id": "xLq3KoRq3TsW"
      },
      "source": [
        "meal_info['cuisine'].unique() #Continental food = European food"
      ],
      "execution_count": null,
      "outputs": []
    },
    {
      "cell_type": "code",
      "metadata": {
        "id": "1LzQ4Jzuo7tA"
      },
      "source": [
        "test.shape, train.shape, fulfilment_center_info.shape, meal_info.shape"
      ],
      "execution_count": null,
      "outputs": []
    },
    {
      "cell_type": "code",
      "metadata": {
        "id": "XJAYA3baxjvY"
      },
      "source": [
        "train.info()"
      ],
      "execution_count": null,
      "outputs": []
    },
    {
      "cell_type": "code",
      "metadata": {
        "id": "aT2mNJSko_Ce"
      },
      "source": [
        "pr = train.profile_report()\n",
        "pr"
      ],
      "execution_count": null,
      "outputs": []
    },
    {
      "cell_type": "markdown",
      "metadata": {
        "id": "cS2y8fMOmal0"
      },
      "source": [
        "target을 num_orders로 하는 회귀 문제로 가정하고, target의 분포를 확인해 봄"
      ]
    },
    {
      "cell_type": "code",
      "metadata": {
        "id": "UNLz2N3Z2av9"
      },
      "source": [
        "target = 'num_orders'"
      ],
      "execution_count": null,
      "outputs": []
    },
    {
      "cell_type": "code",
      "metadata": {
        "id": "CQccs6yi2gkW"
      },
      "source": [
        "train[target].describe()"
      ],
      "execution_count": null,
      "outputs": []
    },
    {
      "cell_type": "markdown",
      "metadata": {
        "id": "lj_rSHDc4fLM"
      },
      "source": [
        "극단적으로 right-skewed함을 확인 "
      ]
    },
    {
      "cell_type": "markdown",
      "metadata": {
        "id": "47e-n7t7pVuE"
      },
      "source": [
        "### Data Wrangling"
      ]
    },
    {
      "cell_type": "markdown",
      "metadata": {
        "id": "AhWxS9JgkeK5"
      },
      "source": [
        "#### 1. merge"
      ]
    },
    {
      "cell_type": "code",
      "metadata": {
        "id": "hXxOf-s8dl94"
      },
      "source": [
        "len(train.meal_id.unique()) == len(meal_info)"
      ],
      "execution_count": null,
      "outputs": []
    },
    {
      "cell_type": "markdown",
      "metadata": {
        "id": "f3KZzaH-VRmb"
      },
      "source": [
        "meal_info.csv와 fulfilment_center_info를 train과 병합 "
      ]
    },
    {
      "cell_type": "code",
      "metadata": {
        "id": "mXTjQSH1EXN7"
      },
      "source": [
        "train = train.merge(meal_info, on='meal_id')\n",
        "train = train.merge(fulfilment_center_info, on='center_id')"
      ],
      "execution_count": null,
      "outputs": []
    },
    {
      "cell_type": "markdown",
      "metadata": {
        "id": "2Y8m9LrGVPkB"
      },
      "source": [
        "test set에도 같은 작업을 진행"
      ]
    },
    {
      "cell_type": "code",
      "metadata": {
        "id": "s4Gk6Ce5UfWW"
      },
      "source": [
        "test = test.merge(meal_info, on='meal_id')\n",
        "test = test.merge(fulfilment_center_info, on='center_id')"
      ],
      "execution_count": null,
      "outputs": []
    },
    {
      "cell_type": "markdown",
      "metadata": {
        "id": "Xx9LGffjkhTU"
      },
      "source": [
        "#### 2. feature engineering"
      ]
    },
    {
      "cell_type": "code",
      "metadata": {
        "id": "tB3EjNI_itQ2"
      },
      "source": [
        "train"
      ],
      "execution_count": null,
      "outputs": []
    },
    {
      "cell_type": "markdown",
      "metadata": {
        "id": "yaJ3Qgqnk-k6"
      },
      "source": [
        "####def for feature engineering"
      ]
    },
    {
      "cell_type": "markdown",
      "metadata": {
        "id": "kA1tYnv3jr4g"
      },
      "source": [
        "컬럼 추가: `discount` (할인 여부를 Y, N으로 계산), `difference` (최종가와 기본가 간의 차액 계산)\n"
      ]
    },
    {
      "cell_type": "code",
      "metadata": {
        "id": "3qra8FJRk9YL"
      },
      "source": [
        "def engineering(df):\n",
        "  df = df.copy()\n",
        "  \n",
        "  #컬럼 추가: `discount` (할인 여부를 Y, N으로 계산), `difference` (최종가와 기본가 간의 차액 계산)\n",
        "  df['discount'] = np.where(((df['checkout_price']-df['base_price']).values < 0), 1, 0)\n",
        "  df['difference'] = (df['checkout_price']-df['base_price'])\n",
        "  \n",
        "  return df"
      ],
      "execution_count": null,
      "outputs": []
    },
    {
      "cell_type": "code",
      "metadata": {
        "id": "dgg-M9hs8YXk"
      },
      "source": [
        "engineering(train)"
      ],
      "execution_count": null,
      "outputs": []
    },
    {
      "cell_type": "code",
      "metadata": {
        "id": "mQGS05HX8dcD"
      },
      "source": [
        "engineering(test)"
      ],
      "execution_count": null,
      "outputs": []
    },
    {
      "cell_type": "markdown",
      "metadata": {
        "id": "cCpRNMT4EMf7"
      },
      "source": [
        "#### 3. target 상위 5%를 제거"
      ]
    },
    {
      "cell_type": "code",
      "metadata": {
        "id": "6p7vBlwffM9N"
      },
      "source": [
        "train[target] = train[train['num_orders'] < np.percentile(train['num_orders'], 95)]['num_orders']"
      ],
      "execution_count": null,
      "outputs": []
    },
    {
      "cell_type": "code",
      "metadata": {
        "id": "AUjBT8TAfEVY"
      },
      "source": [
        "train = train.dropna(axis=0)"
      ],
      "execution_count": null,
      "outputs": []
    },
    {
      "cell_type": "code",
      "metadata": {
        "id": "IE-alRXqfIKj"
      },
      "source": [
        "train[target].describe()"
      ],
      "execution_count": null,
      "outputs": []
    },
    {
      "cell_type": "code",
      "metadata": {
        "id": "D5Zk0dQael2M"
      },
      "source": [
        "#이상치 제거 후의 분포 확인\n",
        "sns.displot(train[target], kde=True);\n",
        "plt.axvline(196, color='red')"
      ],
      "execution_count": null,
      "outputs": []
    },
    {
      "cell_type": "markdown",
      "metadata": {
        "id": "Sn7CHHZAesuL"
      },
      "source": [
        "\n",
        "로그 변환"
      ]
    },
    {
      "cell_type": "code",
      "metadata": {
        "id": "Bfd6ad6LetnK"
      },
      "source": [
        "plots = pd.DataFrame()\n",
        "plots['original'] = train[target]\n",
        "plots['transformed'] = np.log1p(train[target])\n",
        "plots['backtoOriginal'] = np.expm1(np.log1p(train[target]))\n",
        "\n",
        "fig, ax = plt.subplots(1, 3, figsize = (15, 5))\n",
        "sns.histplot(plots['original'], ax = ax[0]);\n",
        "sns.histplot(plots['transformed'], ax = ax[1]);\n",
        "sns.histplot(plots['backtoOriginal'], ax = ax[2]);"
      ],
      "execution_count": null,
      "outputs": []
    },
    {
      "cell_type": "markdown",
      "metadata": {
        "id": "RCDqf0repcHo"
      },
      "source": [
        "### Data Split\n",
        "hold-out validation: train data set을 valid/train으로 임의로 분리\n"
      ]
    },
    {
      "cell_type": "code",
      "metadata": {
        "id": "ahpw7GI9AqFW"
      },
      "source": [
        "target = 'num_orders'\n",
        "data = train[train[target].notna()]\n",
        "\n",
        "train, val = train_test_split(data, test_size = 0.2, random_state = 2)\n",
        "features = train.drop(columns = [target]).columns"
      ],
      "execution_count": null,
      "outputs": []
    },
    {
      "cell_type": "code",
      "metadata": {
        "id": "Mw4QNVpkUY9o"
      },
      "source": [
        "X_test = test"
      ],
      "execution_count": null,
      "outputs": []
    },
    {
      "cell_type": "code",
      "metadata": {
        "id": "9cB_YyGZpaSr"
      },
      "source": [
        "X_train = train[features]\n",
        "y_train = train[target]\n",
        "X_val = val[features]\n",
        "y_val = val[target]"
      ],
      "execution_count": null,
      "outputs": []
    },
    {
      "cell_type": "markdown",
      "metadata": {
        "id": "MPlb2plYzMdg"
      },
      "source": [
        "*stratify = target을 쓸 수 없었던 이유가 무엇일까?*\n",
        "\n",
        "참고: https://stackoverflow.com/questions/43179429/scikit-learn-error-the-least-populated-class-in-y-has-only-1-member"
      ]
    },
    {
      "cell_type": "code",
      "metadata": {
        "id": "qgokbpCaqS4Q"
      },
      "source": [
        "X_train.shape, X_val.shape, y_train.shape, y_val.shape"
      ],
      "execution_count": null,
      "outputs": []
    },
    {
      "cell_type": "markdown",
      "metadata": {
        "id": "eN2KCo6FIU3N"
      },
      "source": [
        "k-fold cross validation"
      ]
    },
    {
      "cell_type": "code",
      "metadata": {
        "id": "7vm1xGJ-RZaj"
      },
      "source": [
        "pipe = make_pipeline(\n",
        "    TargetEncoder(min_samples_leaf=1, smoothing=1), \n",
        "    SimpleImputer(strategy='median'), \n",
        "    RandomForestRegressor(max_depth = 10, n_jobs=-1, random_state=2)\n",
        ")\n",
        "\n",
        "k = 3\n",
        "\n",
        "scores = cross_val_score(pipe, X_train, y_train, cv=k, \n",
        "                         scoring='neg_mean_absolute_error')\n",
        "\n",
        "print(f'MAE for {k} folds:', -scores)"
      ],
      "execution_count": null,
      "outputs": []
    },
    {
      "cell_type": "code",
      "metadata": {
        "id": "-VzD0vrTwJif"
      },
      "source": [
        "-scores.mean(), scores.std()"
      ],
      "execution_count": null,
      "outputs": []
    },
    {
      "cell_type": "markdown",
      "metadata": {
        "id": "WDwht9LUnKQD"
      },
      "source": [
        "###기준모델과 평가지표 설정"
      ]
    },
    {
      "cell_type": "markdown",
      "metadata": {
        "id": "D3Pm1I8hu76G"
      },
      "source": [
        "회귀모델이므로 baseline을 target의 평균으로 설정"
      ]
    },
    {
      "cell_type": "code",
      "metadata": {
        "id": "gYE_nj8lnJD9"
      },
      "source": [
        "predict = train[target].mean()\n",
        "predict"
      ],
      "execution_count": null,
      "outputs": []
    },
    {
      "cell_type": "code",
      "metadata": {
        "id": "IOqzWTicx7Lr"
      },
      "source": [
        "#훈련 에러\n",
        "y_pred_train = [predict] * len(y_train)\n",
        "MAE_train = mean_absolute_error(y_train, y_pred_train)\n",
        "MAE_train "
      ],
      "execution_count": null,
      "outputs": []
    },
    {
      "cell_type": "code",
      "metadata": {
        "id": "RqCBPScjyGto"
      },
      "source": [
        "#검증 에러\n",
        "y_pred_val = [predict] * len(y_val)\n",
        "MAE_val = mean_absolute_error(y_val, y_pred_val)\n",
        "MAE_val"
      ],
      "execution_count": null,
      "outputs": []
    },
    {
      "cell_type": "markdown",
      "metadata": {
        "id": "ISDhs0cEAAoM"
      },
      "source": [
        "### modeling"
      ]
    },
    {
      "cell_type": "markdown",
      "metadata": {
        "id": "7_WTfprOFtGb"
      },
      "source": [
        "####(1) target encoding "
      ]
    },
    {
      "cell_type": "code",
      "metadata": {
        "id": "fmzkfzpiBD1h"
      },
      "source": [
        "enc = TargetEncoder(min_samples_leaf=1, smoothing=1000) \n",
        "X_train_encoded = enc.fit_transform(X_train, y_train)\n",
        "X_val_encoded = enc.fit_transform(X_val, y_val)"
      ],
      "execution_count": null,
      "outputs": []
    },
    {
      "cell_type": "code",
      "metadata": {
        "id": "gcvRzsgfyo7V"
      },
      "source": [
        "X_test_encoded = enc.transform(X_test)"
      ],
      "execution_count": null,
      "outputs": []
    },
    {
      "cell_type": "markdown",
      "metadata": {
        "id": "RK7Bpo72AXER"
      },
      "source": [
        "####(2) 표준화 "
      ]
    },
    {
      "cell_type": "code",
      "metadata": {
        "id": "mKdbWe_yKRMI"
      },
      "source": [
        "scaler = StandardScaler()"
      ],
      "execution_count": null,
      "outputs": []
    },
    {
      "cell_type": "code",
      "metadata": {
        "id": "vvxLkK7gKTWg"
      },
      "source": [
        "X_train_scaled = scaler.fit_transform(X_train_encoded)\n",
        "X_val_scaled = scaler.transform(X_val_encoded)\n",
        "X_test_scaled = scaler.transform(X_test_encoded)"
      ],
      "execution_count": null,
      "outputs": []
    },
    {
      "cell_type": "code",
      "metadata": {
        "id": "TQ69cyyIx9qC"
      },
      "source": [
        "X_train_scaled, X_val_scaled, X_test_scaled"
      ],
      "execution_count": null,
      "outputs": []
    },
    {
      "cell_type": "markdown",
      "metadata": {
        "id": "0zgIRigS_-ZP"
      },
      "source": [
        "#### RF regression"
      ]
    },
    {
      "cell_type": "code",
      "metadata": {
        "id": "nwTCyJhPASrr"
      },
      "source": [
        "pipe_RF_reg = make_pipeline(\n",
        "    SimpleImputer(), \n",
        "    RandomForestRegressor(random_state = 2, n_jobs=-1, oob_score=True)\n",
        ")\n",
        "\n",
        "pipe_RF_reg.fit(X_train_scaled, y_train)\n",
        "print('검증 정확도', pipe_RF_reg.score(X_val_scaled, y_val))"
      ],
      "execution_count": null,
      "outputs": []
    },
    {
      "cell_type": "code",
      "metadata": {
        "id": "CYyz2H482VjQ"
      },
      "source": [
        "y_pred = pipe_RF_reg.predict(X_train_scaled)\n",
        "MAE = mean_absolute_error(y_train, y_pred)\n",
        "print(f'훈련 에러: {MAE:.2f}')"
      ],
      "execution_count": null,
      "outputs": []
    },
    {
      "cell_type": "code",
      "metadata": {
        "id": "wxgj5C1p157k"
      },
      "source": [
        "y_pred = pipe_RF_reg.predict(X_val_scaled)\n",
        "MAE = mean_absolute_error(y_val, y_pred)\n",
        "print(f'검증 에러: {MAE:.2f}')"
      ],
      "execution_count": null,
      "outputs": []
    },
    {
      "cell_type": "markdown",
      "metadata": {
        "id": "UByUltTHL7vc"
      },
      "source": [
        "### decision tree "
      ]
    },
    {
      "cell_type": "code",
      "metadata": {
        "id": "HtoUav4OL93Y"
      },
      "source": [
        "pipe_dc = make_pipeline(\n",
        "    SimpleImputer(), \n",
        "    DecisionTreeRegressor()\n",
        ")\n",
        "\n",
        "pipe_dc.fit(X_train_scaled, y_train)\n",
        "print('검증 정확도', pipe_dc.score(X_val_scaled, y_val))"
      ],
      "execution_count": null,
      "outputs": []
    },
    {
      "cell_type": "code",
      "metadata": {
        "id": "HKSUt_LwcmN3"
      },
      "source": [
        "y_pred = pipe_dc.predict(X_train_scaled)\n",
        "MAE = mean_absolute_error(y_train, y_pred)\n",
        "print(f'훈련 에러: {MAE:.2f}')"
      ],
      "execution_count": null,
      "outputs": []
    },
    {
      "cell_type": "code",
      "metadata": {
        "id": "LPDzvNhqcpRW"
      },
      "source": [
        "y_pred = pipe_dc.predict(X_val_scaled)\n",
        "MAE = mean_absolute_error(y_val, y_pred)\n",
        "print(f'검증 에러: {MAE:.2f}')"
      ],
      "execution_count": null,
      "outputs": []
    },
    {
      "cell_type": "markdown",
      "metadata": {
        "id": "A03Ymg_nL_C2"
      },
      "source": [
        "### Gradient boosting"
      ]
    },
    {
      "cell_type": "code",
      "metadata": {
        "id": "zkLdsz2iTNHU"
      },
      "source": [
        "pipe_gb = make_pipeline(\n",
        "    SimpleImputer(), \n",
        "    XGBRegressor()\n",
        ")\n",
        "\n",
        "pipe_gb.fit(X_train_scaled, y_train)\n",
        "print('검증 정확도', pipe_gb.score(X_val_scaled, y_val))"
      ],
      "execution_count": null,
      "outputs": []
    },
    {
      "cell_type": "code",
      "metadata": {
        "id": "2YEPKozFcs2l"
      },
      "source": [
        "y_pred = pipe_gb.predict(X_train_scaled)\n",
        "MAE = mean_absolute_error(y_train, y_pred)\n",
        "print(f'훈련 에러: {MAE:.2f}')"
      ],
      "execution_count": null,
      "outputs": []
    },
    {
      "cell_type": "code",
      "metadata": {
        "id": "4juRUrGOcuQR"
      },
      "source": [
        "y_pred = pipe_gb.predict(X_val_scaled)\n",
        "MAE = mean_absolute_error(y_val, y_pred)\n",
        "print(f'검증 에러: {MAE:.2f}')"
      ],
      "execution_count": null,
      "outputs": []
    },
    {
      "cell_type": "markdown",
      "metadata": {
        "id": "XaNRjcDA_3ZK"
      },
      "source": [
        "### linear regression"
      ]
    },
    {
      "cell_type": "code",
      "metadata": {
        "id": "o77g4aESXZ3s"
      },
      "source": [
        "pipe_lr = make_pipeline(\n",
        "    TargetEncoder(), \n",
        "    SimpleImputer(), \n",
        "    LinearRegression(n_jobs=-1)\n",
        ")\n",
        "pipe_lr.fit(X_train_scaled, y_train)\n",
        "print('검증세트 정확도', pipe_lr.score(X_val_scaled, y_val))"
      ],
      "execution_count": null,
      "outputs": []
    },
    {
      "cell_type": "code",
      "metadata": {
        "id": "Jibd-FnBAGj9"
      },
      "source": [
        "y_pred = pipe_lr.predict(X_train_scaled)\n",
        "MAE = mean_absolute_error(y_train, y_pred)\n",
        "print(f'훈련 에러: {MAE:.2f}')"
      ],
      "execution_count": null,
      "outputs": []
    },
    {
      "cell_type": "code",
      "metadata": {
        "id": "7V-ymdI1RFFj"
      },
      "source": [
        "y_pred = pipe_lr.predict(X_val_scaled)\n",
        "MAE = mean_absolute_error(y_val, y_pred)\n",
        "print(f'검증 에러: {MAE:.2f}')"
      ],
      "execution_count": null,
      "outputs": []
    },
    {
      "cell_type": "markdown",
      "metadata": {
        "id": "v4QvQK0bALNt"
      },
      "source": [
        "### ridge Regression"
      ]
    },
    {
      "cell_type": "code",
      "metadata": {
        "id": "cTwseoDRAJmp"
      },
      "source": [
        "pipe_ridge = make_pipeline(\n",
        "    SimpleImputer(), \n",
        "    RidgeCV()\n",
        ")\n",
        "\n",
        "pipe_ridge.fit(X_train_scaled, y_train)\n",
        "print('검증 정확도', pipe_ridge.score(X_val_scaled, y_val))"
      ],
      "execution_count": null,
      "outputs": []
    },
    {
      "cell_type": "code",
      "metadata": {
        "id": "D3qJUS_k750V"
      },
      "source": [
        "y_pred = pipe_ridge.predict(X_train_scaled)\n",
        "MAE = mean_absolute_error(y_train, y_pred)\n",
        "print(f'훈련 에러: {MAE:.2f}')"
      ],
      "execution_count": null,
      "outputs": []
    },
    {
      "cell_type": "code",
      "metadata": {
        "id": "fso45WJE6dtk"
      },
      "source": [
        "y_pred = pipe_ridge.predict(X_val_scaled)\n",
        "MAE = mean_absolute_error(y_val, y_pred)\n",
        "print(f'검증 에러: {MAE:.2f}')"
      ],
      "execution_count": null,
      "outputs": []
    },
    {
      "cell_type": "markdown",
      "metadata": {
        "id": "K_H7ffI3WrQb"
      },
      "source": [
        "### cf.TransformTargetRegressor\n"
      ]
    },
    {
      "cell_type": "code",
      "metadata": {
        "id": "3AwYWehjcPeh"
      },
      "source": [
        "tt = TransformedTargetRegressor(regressor=pipe_RF_reg,\n",
        "                                func=np.log1p, inverse_func=np.expm1)\n",
        "\n",
        "tt.fit(X_train_scaled, y_train)\n",
        "tt.score(X_val_scaled, y_val)"
      ],
      "execution_count": null,
      "outputs": []
    },
    {
      "cell_type": "code",
      "metadata": {
        "id": "0iDkpsz7O-hY"
      },
      "source": [
        "y_pred5 = tt.predict(X_train_scaled)\n",
        "MAE = mean_absolute_error(y_train, y_pred5)\n",
        "MAE "
      ],
      "execution_count": null,
      "outputs": []
    },
    {
      "cell_type": "markdown",
      "metadata": {
        "id": "a-LJz6FT-i_l"
      },
      "source": [
        "###시각화"
      ]
    },
    {
      "cell_type": "markdown",
      "metadata": {
        "id": "8VpHVtMgz0R0"
      },
      "source": [
        "RF에 한정해 하이퍼파라미터를 조정"
      ]
    },
    {
      "cell_type": "code",
      "metadata": {
        "id": "CLhOv5LQFoHa"
      },
      "source": [
        "param_distributions = { \n",
        "    'n_estimators': randint(50, 500), \n",
        "    'max_depth': [10, 15, 20], \n",
        "    'max_features': uniform(0, 1), \n",
        "}\n",
        "\n",
        "search = RandomizedSearchCV(\n",
        "    RandomForestRegressor(random_state=2), \n",
        "    param_distributions=param_distributions, \n",
        "    n_iter=3, \n",
        "    cv=3, \n",
        "    scoring='neg_mean_absolute_error', \n",
        "    verbose=10, \n",
        "    return_train_score=True, \n",
        "    n_jobs=-1, \n",
        "    random_state=2\n",
        ")\n"
      ],
      "execution_count": null,
      "outputs": []
    },
    {
      "cell_type": "code",
      "metadata": {
        "id": "ldbQkctAlxLv"
      },
      "source": [
        "search.fit(X_train_encoded, y_train);"
      ],
      "execution_count": null,
      "outputs": []
    },
    {
      "cell_type": "code",
      "metadata": {
        "id": "kRZ_WmWlDLHO"
      },
      "source": [
        "print('최적 하이퍼파라미터: ', search.best_params_)\n",
        "print('CV MAE: ', -search.best_score_)\n",
        "model = search.best_estimator_"
      ],
      "execution_count": null,
      "outputs": []
    },
    {
      "cell_type": "code",
      "metadata": {
        "id": "omRw9BoKWF78"
      },
      "source": [
        "explainer = shap.Explainer(model)\n",
        "shap_values = explainer.shap_values(X_train_encoded.iloc[:20])"
      ],
      "execution_count": null,
      "outputs": []
    },
    {
      "cell_type": "code",
      "metadata": {
        "id": "PtGL5J9rf6GK"
      },
      "source": [
        "shap.initjs()\n",
        "shap.force_plot(\n",
        "    base_value = explainer.expected_value,\n",
        "    shap_values = shap_values,\n",
        "    features = X_train\n",
        ")"
      ],
      "execution_count": null,
      "outputs": []
    },
    {
      "cell_type": "code",
      "metadata": {
        "id": "z18OELfUFvJt"
      },
      "source": [
        "shap.initjs()\n",
        "shap.force_plot(explainer.expected_value, shap_values[0,:], X_train_encoded.iloc[20,:])"
      ],
      "execution_count": null,
      "outputs": []
    },
    {
      "cell_type": "code",
      "metadata": {
        "id": "OeUmgHPNMEhh"
      },
      "source": [
        "shap.initjs()\n",
        "shap.summary_plot(shap_values, X_train_encoded.iloc[:100])"
      ],
      "execution_count": null,
      "outputs": []
    }
  ]
}
